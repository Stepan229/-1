{
  "nbformat": 4,
  "nbformat_minor": 0,
  "metadata": {
    "colab": {
      "name": "Copy of Untitled1.ipynb",
      "provenance": [],
      "collapsed_sections": [],
      "authorship_tag": "ABX9TyMMcZFi8AROQY0UHmePy5Rp",
      "include_colab_link": true
    },
    "kernelspec": {
      "name": "python3",
      "display_name": "Python 3"
    }
  },
  "cells": [
    {
      "cell_type": "markdown",
      "metadata": {
        "id": "view-in-github",
        "colab_type": "text"
      },
      "source": [
        "<a href=\"https://colab.research.google.com/github/Stepan229/1234/blob/master/Laba%201%20.ipynb\" target=\"_parent\"><img src=\"https://colab.research.google.com/assets/colab-badge.svg\" alt=\"Open In Colab\"/></a>"
      ]
    },
    {
      "cell_type": "markdown",
      "metadata": {
        "id": "8v_9nbNOIru8",
        "colab_type": "text"
      },
      "source": [
        "\n",
        "#Лабораторная работа №1\n",
        "1.   Один\n",
        "2.   Два\n",
        "3.   Три\n",
        "4.   Четыри\n",
        "\n",
        "![ргдгрд](https://upload.wikimedia.org/wikipedia/commons/thumb/e/ea/Van_Gogh_-_Starry_Night_-_Google_Art_Project.jpg/1024px-Van_Gogh_-_Starry_Night_-_Google_Art_Project.jpg)\n",
        "\n",
        "\n",
        "\n",
        "---\n",
        "\n",
        "\n",
        "\n",
        "\n",
        "[Ссылка](https://colab.research.google.com/notebooks/welcome.ipynb)"
      ]
    },
    {
      "cell_type": "markdown",
      "metadata": {
        "id": "SVE0ns_YYLMW",
        "colab_type": "text"
      },
      "source": [
        "A|B|C\n",
        "-|-|-\n",
        "23|7|1\n",
        "35|2|3\n",
        "40|3|4"
      ]
    }
  ]
}