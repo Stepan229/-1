{
  "nbformat": 4,
  "nbformat_minor": 0,
  "metadata": {
    "colab": {
      "name": "Untitled5.ipynb",
      "provenance": [],
      "collapsed_sections": [],
      "authorship_tag": "ABX9TyPvSy2/DTtnlzEfGp2oEjtl",
      "include_colab_link": true
    },
    "kernelspec": {
      "name": "python3",
      "display_name": "Python 3"
    }
  },
  "cells": [
    {
      "cell_type": "markdown",
      "metadata": {
        "id": "view-in-github",
        "colab_type": "text"
      },
      "source": [
        "<a href=\"https://colab.research.google.com/github/Stepan229/1234/blob/master/Laba%203.ipynb\" target=\"_parent\"><img src=\"https://colab.research.google.com/assets/colab-badge.svg\" alt=\"Open In Colab\"/></a>"
      ]
    },
    {
      "cell_type": "code",
      "metadata": {
        "id": "scB1vbxCHo39",
        "colab_type": "code",
        "colab": {}
      },
      "source": [
        "import pandas as pd\n",
        "import numpy as np\n",
        "from bokeh.plotting import figure, output_file, show\n",
        "from bokeh.io import output_notebook\n",
        "import numpy as np\n",
        "\n",
        "output_notebook()\n",
        " \n",
        "#https://coderoad.ru/43639978/Pandas-%D1%82%D1%80%D0%B0%D0%BD%D1%81%D0%BF%D0%BE%D0%BD%D0%B8%D1%80%D0%BE%D0%B2%D0%B0%D1%82%D1%8C-%D1%81%D1%82%D1%80%D0%BE%D0%BA%D0%B8-%D0%B2-%D1%81%D1%82%D0%BE%D0%BB%D0%B1%D1%86%D1%8B\n",
        "#https://codeindex.ru/q/56382385-python-pandas-dataframe-groupby-zatem-transponirovat.html"
      ],
      "execution_count": 0,
      "outputs": []
    },
    {
      "cell_type": "code",
      "metadata": {
        "id": "WYVAdKJD5OfJ",
        "colab_type": "code",
        "outputId": "92210b85-93a1-461f-dea8-ff6481e9abfc",
        "colab": {
          "base_uri": "https://localhost:8080/",
          "height": 198
        }
      },
      "source": [
        "#Получение и чтение файла из облака\n",
        "url = \"https://drive.google.com/uc?export=download&id=162eDBqCYWbPpXSFuVNiUmL1xyYSjDNeS\"\n",
        "input_df = pd.read_excel(url)\n",
        "input_df.head()\n",
        "   "
      ],
      "execution_count": 4,
      "outputs": [
        {
          "output_type": "execute_result",
          "data": {
            "text/html": [
              "<div>\n",
              "<style scoped>\n",
              "    .dataframe tbody tr th:only-of-type {\n",
              "        vertical-align: middle;\n",
              "    }\n",
              "\n",
              "    .dataframe tbody tr th {\n",
              "        vertical-align: top;\n",
              "    }\n",
              "\n",
              "    .dataframe thead th {\n",
              "        text-align: right;\n",
              "    }\n",
              "</style>\n",
              "<table border=\"1\" class=\"dataframe\">\n",
              "  <thead>\n",
              "    <tr style=\"text-align: right;\">\n",
              "      <th></th>\n",
              "      <th>Дата</th>\n",
              "      <th>Выработка</th>\n",
              "    </tr>\n",
              "  </thead>\n",
              "  <tbody>\n",
              "    <tr>\n",
              "      <th>0</th>\n",
              "      <td>2013-01-01</td>\n",
              "      <td>103256.7</td>\n",
              "    </tr>\n",
              "    <tr>\n",
              "      <th>1</th>\n",
              "      <td>2013-02-01</td>\n",
              "      <td>91532.6</td>\n",
              "    </tr>\n",
              "    <tr>\n",
              "      <th>2</th>\n",
              "      <td>2013-03-01</td>\n",
              "      <td>97809.1</td>\n",
              "    </tr>\n",
              "    <tr>\n",
              "      <th>3</th>\n",
              "      <td>2013-04-01</td>\n",
              "      <td>85131.0</td>\n",
              "    </tr>\n",
              "    <tr>\n",
              "      <th>4</th>\n",
              "      <td>2013-05-01</td>\n",
              "      <td>79080.8</td>\n",
              "    </tr>\n",
              "  </tbody>\n",
              "</table>\n",
              "</div>"
            ],
            "text/plain": [
              "        Дата  Выработка\n",
              "0 2013-01-01   103256.7\n",
              "1 2013-02-01    91532.6\n",
              "2 2013-03-01    97809.1\n",
              "3 2013-04-01    85131.0\n",
              "4 2013-05-01    79080.8"
            ]
          },
          "metadata": {
            "tags": []
          },
          "execution_count": 4
        }
      ]
    },
    {
      "cell_type": "code",
      "metadata": {
        "id": "O_uV7wt44ENs",
        "colab_type": "code",
        "outputId": "9c62cf60-f950-4546-e381-0e24b0f126ab",
        "colab": {
          "base_uri": "https://localhost:8080/",
          "height": 272
        }
      },
      "source": [
        "#input_df = input_df.sort_values(['Выработка'], ascending = False)\n",
        "print(input_df)\n"
      ],
      "execution_count": 5,
      "outputs": [
        {
          "output_type": "stream",
          "text": [
            "         Дата  Выработка\n",
            "0  2013-01-01   103256.7\n",
            "1  2013-02-01    91532.6\n",
            "2  2013-03-01    97809.1\n",
            "3  2013-04-01    85131.0\n",
            "4  2013-05-01    79080.8\n",
            "..        ...        ...\n",
            "81 2019-10-01    93200.0\n",
            "82 2019-11-01    98900.0\n",
            "83 2019-12-01   104400.0\n",
            "84 2019-11-01    98900.0\n",
            "85 2019-12-01   104400.0\n",
            "\n",
            "[86 rows x 2 columns]\n"
          ],
          "name": "stdout"
        }
      ]
    },
    {
      "cell_type": "code",
      "metadata": {
        "id": "cCbQSCp1HSLx",
        "colab_type": "code",
        "outputId": "198a1f4e-42c3-408f-df58-997f91fef616",
        "colab": {
          "base_uri": "https://localhost:8080/",
          "height": 272
        }
      },
      "source": [
        "input_df_2 = input_df.copy()\n",
        "input_df_2['Мощность'] = input_df_2['Выработка'] / (30.4167*24)\n",
        "print(input_df_2)"
      ],
      "execution_count": 6,
      "outputs": [
        {
          "output_type": "stream",
          "text": [
            "         Дата  Выработка    Мощность\n",
            "0  2013-01-01   103256.7  141.447379\n",
            "1  2013-02-01    91532.6  125.386986\n",
            "2  2013-03-01    97809.1  133.984922\n",
            "3  2013-04-01    85131.0  116.617680\n",
            "4  2013-05-01    79080.8  108.329744\n",
            "..        ...        ...         ...\n",
            "81 2019-10-01    93200.0  127.671093\n",
            "82 2019-11-01    98900.0  135.479304\n",
            "83 2019-12-01   104400.0  143.013542\n",
            "84 2019-11-01    98900.0  135.479304\n",
            "85 2019-12-01   104400.0  143.013542\n",
            "\n",
            "[86 rows x 3 columns]\n"
          ],
          "name": "stdout"
        }
      ]
    },
    {
      "cell_type": "code",
      "metadata": {
        "id": "g-KIlIRSKYr8",
        "colab_type": "code",
        "outputId": "db7bb2b1-b3b3-441a-f02a-51348bd286bd",
        "colab": {
          "base_uri": "https://localhost:8080/",
          "height": 272
        }
      },
      "source": [
        "print(input_df_2[['Дата', 'Мощность']])"
      ],
      "execution_count": 7,
      "outputs": [
        {
          "output_type": "stream",
          "text": [
            "         Дата    Мощность\n",
            "0  2013-01-01  141.447379\n",
            "1  2013-02-01  125.386986\n",
            "2  2013-03-01  133.984922\n",
            "3  2013-04-01  116.617680\n",
            "4  2013-05-01  108.329744\n",
            "..        ...         ...\n",
            "81 2019-10-01  127.671093\n",
            "82 2019-11-01  135.479304\n",
            "83 2019-12-01  143.013542\n",
            "84 2019-11-01  135.479304\n",
            "85 2019-12-01  143.013542\n",
            "\n",
            "[86 rows x 2 columns]\n"
          ],
          "name": "stdout"
        }
      ]
    },
    {
      "cell_type": "code",
      "metadata": {
        "id": "AamxAJ7CLOwm",
        "colab_type": "code",
        "outputId": "f580e52f-c8b9-43cb-dc14-d7bcec19ed32",
        "colab": {
          "base_uri": "https://localhost:8080/",
          "height": 308
        }
      },
      "source": [
        "print(input_df_2.iloc[: -2, 2 : 4])\n",
        "print()\n",
        "print(input_df_2.iloc[1 , 1])"
      ],
      "execution_count": 15,
      "outputs": [
        {
          "output_type": "stream",
          "text": [
            "      Мощность\n",
            "0   141.447379\n",
            "1   125.386986\n",
            "2   133.984922\n",
            "3   116.617680\n",
            "4   108.329744\n",
            "..         ...\n",
            "79  113.835492\n",
            "80  115.068367\n",
            "81  127.671093\n",
            "82  135.479304\n",
            "83  143.013542\n",
            "\n",
            "[84 rows x 1 columns]\n",
            "\n",
            "91532.6\n"
          ],
          "name": "stdout"
        }
      ]
    },
    {
      "cell_type": "code",
      "metadata": {
        "id": "FGC1QFQKLzYe",
        "colab_type": "code",
        "outputId": "b61d89c4-a6fc-4585-9e7f-da4cca3fac78",
        "colab": {
          "base_uri": "https://localhost:8080/",
          "height": 326
        }
      },
      "source": [
        "mean_df = input_df_2[input_df_2.Выработка > 100000]\n",
        "print(mean_df)\n"
      ],
      "execution_count": 70,
      "outputs": [
        {
          "output_type": "stream",
          "text": [
            "         Дата  Выработка    Мощность\n",
            "0  2013-01-01   103256.7  141.447379\n",
            "11 2013-12-01   100313.3  137.415329\n",
            "12 2014-01-01   101175.4  138.596286\n",
            "23 2014-12-01   103343.5  141.566283\n",
            "24 2015-01-01   101681.9  139.290121\n",
            "35 2015-12-01   100301.4  137.399028\n",
            "36 2016-01-01   104243.7  142.799433\n",
            "47 2016-12-01   106081.4  145.316827\n",
            "48 2017-01-01   104178.5  142.710118\n",
            "59 2017-12-01   102786.7  140.803544\n",
            "60 2018-01-01   103603.5  141.922447\n",
            "62 2018-03-01   100500.0  137.671082\n",
            "71 2018-12-01   107520.0  147.287510\n",
            "72 2019-01-01   105700.0  144.794362\n",
            "83 2019-12-01   104400.0  143.013542\n",
            "85 2019-12-01   104400.0  143.013542\n"
          ],
          "name": "stdout"
        }
      ]
    },
    {
      "cell_type": "code",
      "metadata": {
        "id": "69XeS5ZMMpjq",
        "colab_type": "code",
        "outputId": "8bfaff7d-c27b-4d71-c484-2a3ef4508dc1",
        "colab": {
          "base_uri": "https://localhost:8080/",
          "height": 35
        }
      },
      "source": [
        "mean = np.mean(mean_df.Выработка)\n",
        " \n",
        "print(mean)"
      ],
      "execution_count": 68,
      "outputs": [
        {
          "output_type": "stream",
          "text": [
            "103342.875\n"
          ],
          "name": "stdout"
        }
      ]
    },
    {
      "cell_type": "code",
      "metadata": {
        "colab_type": "code",
        "outputId": "a582d460-4edb-49e4-b368-b61088bbd270",
        "id": "nWu9ky16VYFK",
        "colab": {
          "base_uri": "https://localhost:8080/",
          "height": 326
        }
      },
      "source": [
        "\n",
        "print(mean_df)\n",
        "mean_df = (mean_df[['Выработка', 'Мощность']])"
      ],
      "execution_count": 69,
      "outputs": [
        {
          "output_type": "stream",
          "text": [
            "    Выработка    Мощность\n",
            "0    103256.7  141.447379\n",
            "11   100313.3  137.415329\n",
            "12   101175.4  138.596286\n",
            "23   103343.5  141.566283\n",
            "24   101681.9  139.290121\n",
            "35   100301.4  137.399028\n",
            "36   104243.7  142.799433\n",
            "47   106081.4  145.316827\n",
            "48   104178.5  142.710118\n",
            "59   102786.7  140.803544\n",
            "60   103603.5  141.922447\n",
            "62   100500.0  137.671082\n",
            "71   107520.0  147.287510\n",
            "72   105700.0  144.794362\n",
            "83   104400.0  143.013542\n",
            "85   104400.0  143.013542\n"
          ],
          "name": "stdout"
        }
      ]
    },
    {
      "cell_type": "code",
      "metadata": {
        "id": "swU2dhYTSE8D",
        "colab_type": "code",
        "colab": {
          "base_uri": "https://localhost:8080/",
          "height": 381
        },
        "outputId": "47dd0452-035d-419b-a5cf-db598697c373"
      },
      "source": [
        "df_date = input_df_2['Дата'].astype(str).str.split('-', expand = True) \n",
        "print(df_date.head())\n",
        "#print(input_df_2['Дата'])\n",
        "df_gen = pd.DataFrame()\n",
        "df_gen['Generation'] = input_df_2['Выработка'].astype(float)\n",
        "df_gen['Month_ID'] = df_date[1].astype(int)\n",
        "df_gen['Year'] = df_date[0].astype(int)\n",
        "print(df_gen)"
      ],
      "execution_count": 79,
      "outputs": [
        {
          "output_type": "stream",
          "text": [
            "      0   1   2\n",
            "0  2013  01  01\n",
            "1  2013  02  01\n",
            "2  2013  03  01\n",
            "3  2013  04  01\n",
            "4  2013  05  01\n",
            "    Generation  Month_ID  Year\n",
            "0     103256.7         1  2013\n",
            "1      91532.6         2  2013\n",
            "2      97809.1         3  2013\n",
            "3      85131.0         4  2013\n",
            "4      79080.8         5  2013\n",
            "..         ...       ...   ...\n",
            "81     93200.0        10  2019\n",
            "82     98900.0        11  2019\n",
            "83    104400.0        12  2019\n",
            "84     98900.0        11  2019\n",
            "85    104400.0        12  2019\n",
            "\n",
            "[86 rows x 3 columns]\n"
          ],
          "name": "stdout"
        }
      ]
    },
    {
      "cell_type": "code",
      "metadata": {
        "id": "pFtfEJLvbEsy",
        "colab_type": "code",
        "outputId": "7b2ed850-6c21-4672-ae1c-4ddfd90244ec",
        "colab": {
          "base_uri": "https://localhost:8080/",
          "height": 574
        }
      },
      "source": [
        "# 14. Статистика суммарной генерации по месяцам.\n",
        "month_stat = df_gen.groupby(['Month_ID'])['Generation'].sum()\n",
        "print(month_stat)\n",
        "print()\n",
        "month_stat.plot(kind = 'bar')\n",
        "print()"
      ],
      "execution_count": 80,
      "outputs": [
        {
          "output_type": "stream",
          "text": [
            "Month_ID\n",
            "1     723839.7\n",
            "2     651270.4\n",
            "3     674582.1\n",
            "4     600488.6\n",
            "5     565863.0\n",
            "6     535845.6\n",
            "7     551404.1\n",
            "8     562838.0\n",
            "9     567670.2\n",
            "10    644995.1\n",
            "11    770569.3\n",
            "12    829146.3\n",
            "Name: Generation, dtype: float64\n",
            "\n",
            "\n"
          ],
          "name": "stdout"
        },
        {
          "output_type": "display_data",
          "data": {
            "image/png": "[encoded data removed]",
            "text/plain": [
              "<Figure size 432x288 with 1 Axes>"
            ]
          },
          "metadata": {
            "tags": [],
            "needs_background": "light"
          }
        }
      ]
    },
    {
      "cell_type": "code",
      "metadata": {
        "id": "Mm7WhRqhwny1",
        "colab_type": "code",
        "colab": {
          "base_uri": "https://localhost:8080/",
          "height": 417
        },
        "outputId": "5ef03978-9d70-4bd3-cc95-bcdcf7f00858"
      },
      "source": [
        "p = figure(plot_width = 800, plot_height = 400)\n",
        "\n",
        "# Список цветов по количеству лет.\n",
        "colors = ['magenta', 'red', 'yellow', 'green', 'cyan', 'blue', 'black']\n",
        "\n",
        "# Для каждого года свой график.\n",
        "for year in range(2013, 2019):\n",
        "  \n",
        "  # Выбор из таблицы данных по выработке за нужный год. \n",
        "  values = df_gen[df_gen['Year'] == year]['Generation'].values \n",
        "  \n",
        "  # Построение линий.\n",
        "  p.line(np.arange(12), values, color = colors[year - 2013], legend_label = str(year), line_width = 3)\n",
        "\n",
        "  # Построение маркеров.\n",
        "  p.circle(np.arange(12), values, color = colors[year - 2013], alpha=0.5, size = 8)\n",
        "show(p)"
      ],
      "execution_count": 90,
      "outputs": [
        {
          "output_type": "display_data",
          "data": {
            "application/javascript": [
              "\n",
              "(function(root) {\n",
              "  function now() {\n",
              "    return new Date();\n",
              "  }\n",
              "\n",
              "  var force = true;\n",
              "\n",
              "  if (typeof root._bokeh_onload_callbacks === \"undefined\" || force === true) {\n",
              "    root._bokeh_onload_callbacks = [];\n",
              "    root._bokeh_is_loading = undefined;\n",
              "  }\n",
              "\n",
              "  var JS_MIME_TYPE = 'application/javascript';\n",
              "  var HTML_MIME_TYPE = 'text/html';\n",
              "  var EXEC_MIME_TYPE = 'application/vnd.bokehjs_exec.v0+json';\n",
              "  var CLASS_NAME = 'output_bokeh rendered_html';\n",
              "\n",
              "  /**\n",
              "   * Render data to the DOM node\n",
              "   */\n",
              "  function render(props, node) {\n",
              "    var script = document.createElement(\"script\");\n",
              "    node.appendChild(script);\n",
              "  }\n",
              "\n",
              "  /**\n",
              "   * Handle when an output is cleared or removed\n",
              "   */\n",
              "  function handleClearOutput(event, handle) {\n",
              "    var cell = handle.cell;\n",
              "\n",
              "    var id = cell.output_area._bokeh_element_id;\n",
              "    var server_id = cell.output_area._bokeh_server_id;\n",
              "    // Clean up Bokeh references\n",
              "    if (id != null && id in Bokeh.index) {\n",
              "      Bokeh.index[id].model.document.clear();\n",
              "      delete Bokeh.index[id];\n",
              "    }\n",
              "\n",
              "    if (server_id !== undefined) {\n",
              "      // Clean up Bokeh references\n",
              "      var cmd = \"from bokeh.io.state import curstate; print(curstate().uuid_to_server['\" + server_id + \"'].get_sessions()[0].document.roots[0]._id)\";\n",
              "      cell.notebook.kernel.execute(cmd, {\n",
              "        iopub: {\n",
              "          output: function(msg) {\n",
              "            var id = msg.content.text.trim();\n",
              "            if (id in Bokeh.index) {\n",
              "              Bokeh.index[id].model.document.clear();\n",
              "              delete Bokeh.index[id];\n",
              "            }\n",
              "          }\n",
              "        }\n",
              "      });\n",
              "      // Destroy server and session\n",
              "      var cmd = \"import bokeh.io.notebook as ion; ion.destroy_server('\" + server_id + \"')\";\n",
              "      cell.notebook.kernel.execute(cmd);\n",
              "    }\n",
              "  }\n",
              "\n",
              "  /**\n",
              "   * Handle when a new output is added\n",
              "   */\n",
              "  function handleAddOutput(event, handle) {\n",
              "    var output_area = handle.output_area;\n",
              "    var output = handle.output;\n",
              "\n",
              "    // limit handleAddOutput to display_data with EXEC_MIME_TYPE content only\n",
              "    if ((output.output_type != \"display_data\") || (!output.data.hasOwnProperty(EXEC_MIME_TYPE))) {\n",
              "      return\n",
              "    }\n",
              "\n",
              "    var toinsert = output_area.element.find(\".\" + CLASS_NAME.split(' ')[0]);\n",
              "\n",
              "    if (output.metadata[EXEC_MIME_TYPE][\"id\"] !== undefined) {\n",
              "      toinsert[toinsert.length - 1].firstChild.textContent = output.data[JS_MIME_TYPE];\n",
              "      // store reference to embed id on output_area\n",
              "      output_area._bokeh_element_id = output.metadata[EXEC_MIME_TYPE][\"id\"];\n",
              "    }\n",
              "    if (output.metadata[EXEC_MIME_TYPE][\"server_id\"] !== undefined) {\n",
              "      var bk_div = document.createElement(\"div\");\n",
              "      bk_div.innerHTML = output.data[HTML_MIME_TYPE];\n",
              "      var script_attrs = bk_div.children[0].attributes;\n",
              "      for (var i = 0; i < script_attrs.length; i++) {\n",
              "        toinsert[toinsert.length - 1].firstChild.setAttribute(script_attrs[i].name, script_attrs[i].value);\n",
              "      }\n",
              "      // store reference to server id on output_area\n",
              "      output_area._bokeh_server_id = output.metadata[EXEC_MIME_TYPE][\"server_id\"];\n",
              "    }\n",
              "  }\n",
              "\n",
              "  function register_renderer(events, OutputArea) {\n",
              "\n",
              "    function append_mime(data, metadata, element) {\n",
              "      // create a DOM node to render to\n",
              "      var toinsert = this.create_output_subarea(\n",
              "        metadata,\n",
              "        CLASS_NAME,\n",
              "        EXEC_MIME_TYPE\n",
              "      );\n",
              "      this.keyboard_manager.register_events(toinsert);\n",
              "      // Render to node\n",
              "      var props = {data: data, metadata: metadata[EXEC_MIME_TYPE]};\n",
              "      render(props, toinsert[toinsert.length - 1]);\n",
              "      element.append(toinsert);\n",
              "      return toinsert\n",
              "    }\n",
              "\n",
              "    /* Handle when an output is cleared or removed */\n",
              "    events.on('clear_output.CodeCell', handleClearOutput);\n",
              "    events.on('delete.Cell', handleClearOutput);\n",
              "\n",
              "    /* Handle when a new output is added */\n",
              "    events.on('output_added.OutputArea', handleAddOutput);\n",
              "\n",
              "    /**\n",
              "     * Register the mime type and append_mime function with output_area\n",
              "     */\n",
              "    OutputArea.prototype.register_mime_type(EXEC_MIME_TYPE, append_mime, {\n",
              "      /* Is output safe? */\n",
              "      safe: true,\n",
              "      /* Index of renderer in `output_area.display_order` */\n",
              "      index: 0\n",
              "    });\n",
              "  }\n",
              "\n",
              "  // register the mime type if in Jupyter Notebook environment and previously unregistered\n",
              "  if (root.Jupyter !== undefined) {\n",
              "    var events = require('base/js/events');\n",
              "    var OutputArea = require('notebook/js/outputarea').OutputArea;\n",
              "\n",
              "    if (OutputArea.prototype.mime_types().indexOf(EXEC_MIME_TYPE) == -1) {\n",
              "      register_renderer(events, OutputArea);\n",
              "    }\n",
              "  }\n",
              "\n",
              "  \n",
              "  if (typeof (root._bokeh_timeout) === \"undefined\" || force === true) {\n",
              "    root._bokeh_timeout = Date.now() + 5000;\n",
              "    root._bokeh_failed_load = false;\n",
              "  }\n",
              "\n",
              "  var NB_LOAD_WARNING = {'data': {'text/html':\n",
              "     \"<div style='background-color: #fdd'>\\n\"+\n",
              "     \"<p>\\n\"+\n",
              "     \"BokehJS does not appear to have successfully loaded. If loading BokehJS from CDN, this \\n\"+\n",
              "     \"may be due to a slow or bad network connection. Possible fixes:\\n\"+\n",
              "     \"</p>\\n\"+\n",
              "     \"<ul>\\n\"+\n",
              "     \"<li>re-rerun `output_notebook()` to attempt to load from CDN again, or</li>\\n\"+\n",
              "     \"<li>use INLINE resources instead, as so:</li>\\n\"+\n",
              "     \"</ul>\\n\"+\n",
              "     \"<code>\\n\"+\n",
              "     \"from bokeh.resources import INLINE\\n\"+\n",
              "     \"output_notebook(resources=INLINE)\\n\"+\n",
              "     \"</code>\\n\"+\n",
              "     \"</div>\"}};\n",
              "\n",
              "  function display_loaded() {\n",
              "    var el = document.getElementById(null);\n",
              "    if (el != null) {\n",
              "      el.textContent = \"BokehJS is loading...\";\n",
              "    }\n",
              "    if (root.Bokeh !== undefined) {\n",
              "      if (el != null) {\n",
              "        el.textContent = \"BokehJS \" + root.Bokeh.version + \" successfully loaded.\";\n",
              "      }\n",
              "    } else if (Date.now() < root._bokeh_timeout) {\n",
              "      setTimeout(display_loaded, 100)\n",
              "    }\n",
              "  }\n",
              "\n",
              "\n",
              "  function run_callbacks() {\n",
              "    try {\n",
              "      root._bokeh_onload_callbacks.forEach(function(callback) {\n",
              "        if (callback != null)\n",
              "          callback();\n",
              "      });\n",
              "    } finally {\n",
              "      delete root._bokeh_onload_callbacks\n",
              "    }\n",
              "    console.debug(\"Bokeh: all callbacks have finished\");\n",
              "  }\n",
              "\n",
              "  function load_libs(css_urls, js_urls, callback) {\n",
              "    if (css_urls == null) css_urls = [];\n",
              "    if (js_urls == null) js_urls = [];\n",
              "\n",
              "    root._bokeh_onload_callbacks.push(callback);\n",
              "    if (root._bokeh_is_loading > 0) {\n",
              "      console.debug(\"Bokeh: BokehJS is being loaded, scheduling callback at\", now());\n",
              "      return null;\n",
              "    }\n",
              "    if (js_urls == null || js_urls.length === 0) {\n",
              "      run_callbacks();\n",
              "      return null;\n",
              "    }\n",
              "    console.debug(\"Bokeh: BokehJS not loaded, scheduling load and callback at\", now());\n",
              "    root._bokeh_is_loading = css_urls.length + js_urls.length;\n",
              "\n",
              "    function on_load() {\n",
              "      root._bokeh_is_loading--;\n",
              "      if (root._bokeh_is_loading === 0) {\n",
              "        console.debug(\"Bokeh: all BokehJS libraries/stylesheets loaded\");\n",
              "        run_callbacks()\n",
              "      }\n",
              "    }\n",
              "\n",
              "    function on_error() {\n",
              "      console.error(\"failed to load \" + url);\n",
              "    }\n",
              "\n",
              "    for (var i = 0; i < css_urls.length; i++) {\n",
              "      var url = css_urls[i];\n",
              "      const element = document.createElement(\"link\");\n",
              "      element.onload = on_load;\n",
              "      element.onerror = on_error;\n",
              "      element.rel = \"stylesheet\";\n",
              "      element.type = \"text/css\";\n",
              "      element.href = url;\n",
              "      console.debug(\"Bokeh: injecting link tag for BokehJS stylesheet: \", url);\n",
              "      document.body.appendChild(element);\n",
              "    }\n",
              "\n",
              "    for (var i = 0; i < js_urls.length; i++) {\n",
              "      var url = js_urls[i];\n",
              "      var element = document.createElement('script');\n",
              "      element.onload = on_load;\n",
              "      element.onerror = on_error;\n",
              "      element.async = false;\n",
              "      element.src = url;\n",
              "      console.debug(\"Bokeh: injecting script tag for BokehJS library: \", url);\n",
              "      document.head.appendChild(element);\n",
              "    }\n",
              "  };\n",
              "\n",
              "  function inject_raw_css(css) {\n",
              "    const element = document.createElement(\"style\");\n",
              "    element.appendChild(document.createTextNode(css));\n",
              "    document.body.appendChild(element);\n",
              "  }\n",
              "\n",
              "  \n",
              "  var js_urls = [\"https://cdn.pydata.org/bokeh/release/bokeh-1.4.0.min.js\", \"https://cdn.pydata.org/bokeh/release/bokeh-widgets-1.4.0.min.js\", \"https://cdn.pydata.org/bokeh/release/bokeh-tables-1.4.0.min.js\", \"https://cdn.pydata.org/bokeh/release/bokeh-gl-1.4.0.min.js\"];\n",
              "  var css_urls = [];\n",
              "  \n",
              "\n",
              "  var inline_js = [\n",
              "    function(Bokeh) {\n",
              "      Bokeh.set_log_level(\"info\");\n",
              "    },\n",
              "    function(Bokeh) {\n",
              "    \n",
              "    \n",
              "    }\n",
              "  ];\n",
              "\n",
              "  function run_inline_js() {\n",
              "    \n",
              "    if (root.Bokeh !== undefined || force === true) {\n",
              "      \n",
              "    for (var i = 0; i < inline_js.length; i++) {\n",
              "      inline_js[i].call(root, root.Bokeh);\n",
              "    }\n",
              "    } else if (Date.now() < root._bokeh_timeout) {\n",
              "      setTimeout(run_inline_js, 100);\n",
              "    } else if (!root._bokeh_failed_load) {\n",
              "      console.log(\"Bokeh: BokehJS failed to load within specified timeout.\");\n",
              "      root._bokeh_failed_load = true;\n",
              "    } else if (force !== true) {\n",
              "      var cell = $(document.getElementById(null)).parents('.cell').data().cell;\n",
              "      cell.output_area.append_execute_result(NB_LOAD_WARNING)\n",
              "    }\n",
              "\n",
              "  }\n",
              "\n",
              "  if (root._bokeh_is_loading === 0) {\n",
              "    console.debug(\"Bokeh: BokehJS loaded, going straight to plotting\");\n",
              "    run_inline_js();\n",
              "  } else {\n",
              "    load_libs(css_urls, js_urls, function() {\n",
              "      console.debug(\"Bokeh: BokehJS plotting callback run at\", now());\n",
              "      run_inline_js();\n",
              "    });\n",
              "  }\n",
              "}(window));"
            ],
            "application/vnd.bokehjs_load.v0+json": "\n(function(root) {\n  function now() {\n    return new Date();\n  }\n\n  var force = true;\n\n  if (typeof root._bokeh_onload_callbacks === \"undefined\" || force === true) {\n    root._bokeh_onload_callbacks = [];\n    root._bokeh_is_loading = undefined;\n  }\n\n  \n\n  \n  if (typeof (root._bokeh_timeout) === \"undefined\" || force === true) {\n    root._bokeh_timeout = Date.now() + 5000;\n    root._bokeh_failed_load = false;\n  }\n\n  var NB_LOAD_WARNING = {'data': {'text/html':\n     \"<div style='background-color: #fdd'>\\n\"+\n     \"<p>\\n\"+\n     \"BokehJS does not appear to have successfully loaded. If loading BokehJS from CDN, this \\n\"+\n     \"may be due to a slow or bad network connection. Possible fixes:\\n\"+\n     \"</p>\\n\"+\n     \"<ul>\\n\"+\n     \"<li>re-rerun `output_notebook()` to attempt to load from CDN again, or</li>\\n\"+\n     \"<li>use INLINE resources instead, as so:</li>\\n\"+\n     \"</ul>\\n\"+\n     \"<code>\\n\"+\n     \"from bokeh.resources import INLINE\\n\"+\n     \"output_notebook(resources=INLINE)\\n\"+\n     \"</code>\\n\"+\n     \"</div>\"}};\n\n  function display_loaded() {\n    var el = document.getElementById(null);\n    if (el != null) {\n      el.textContent = \"BokehJS is loading...\";\n    }\n    if (root.Bokeh !== undefined) {\n      if (el != null) {\n        el.textContent = \"BokehJS \" + root.Bokeh.version + \" successfully loaded.\";\n      }\n    } else if (Date.now() < root._bokeh_timeout) {\n      setTimeout(display_loaded, 100)\n    }\n  }\n\n\n  function run_callbacks() {\n    try {\n      root._bokeh_onload_callbacks.forEach(function(callback) {\n        if (callback != null)\n          callback();\n      });\n    } finally {\n      delete root._bokeh_onload_callbacks\n    }\n    console.debug(\"Bokeh: all callbacks have finished\");\n  }\n\n  function load_libs(css_urls, js_urls, callback) {\n    if (css_urls == null) css_urls = [];\n    if (js_urls == null) js_urls = [];\n\n    root._bokeh_onload_callbacks.push(callback);\n    if (root._bokeh_is_loading > 0) {\n      console.debug(\"Bokeh: BokehJS is being loaded, scheduling callback at\", now());\n      return null;\n    }\n    if (js_urls == null || js_urls.length === 0) {\n      run_callbacks();\n      return null;\n    }\n    console.debug(\"Bokeh: BokehJS not loaded, scheduling load and callback at\", now());\n    root._bokeh_is_loading = css_urls.length + js_urls.length;\n\n    function on_load() {\n      root._bokeh_is_loading--;\n      if (root._bokeh_is_loading === 0) {\n        console.debug(\"Bokeh: all BokehJS libraries/stylesheets loaded\");\n        run_callbacks()\n      }\n    }\n\n    function on_error() {\n      console.error(\"failed to load \" + url);\n    }\n\n    for (var i = 0; i < css_urls.length; i++) {\n      var url = css_urls[i];\n      const element = document.createElement(\"link\");\n      element.onload = on_load;\n      element.onerror = on_error;\n      element.rel = \"stylesheet\";\n      element.type = \"text/css\";\n      element.href = url;\n      console.debug(\"Bokeh: injecting link tag for BokehJS stylesheet: \", url);\n      document.body.appendChild(element);\n    }\n\n    for (var i = 0; i < js_urls.length; i++) {\n      var url = js_urls[i];\n      var element = document.createElement('script');\n      element.onload = on_load;\n      element.onerror = on_error;\n      element.async = false;\n      element.src = url;\n      console.debug(\"Bokeh: injecting script tag for BokehJS library: \", url);\n      document.head.appendChild(element);\n    }\n  };\n\n  function inject_raw_css(css) {\n    const element = document.createElement(\"style\");\n    element.appendChild(document.createTextNode(css));\n    document.body.appendChild(element);\n  }\n\n  \n  var js_urls = [\"https://cdn.pydata.org/bokeh/release/bokeh-1.4.0.min.js\", \"https://cdn.pydata.org/bokeh/release/bokeh-widgets-1.4.0.min.js\", \"https://cdn.pydata.org/bokeh/release/bokeh-tables-1.4.0.min.js\", \"https://cdn.pydata.org/bokeh/release/bokeh-gl-1.4.0.min.js\"];\n  var css_urls = [];\n  \n\n  var inline_js = [\n    function(Bokeh) {\n      Bokeh.set_log_level(\"info\");\n    },\n    function(Bokeh) {\n    \n    \n    }\n  ];\n\n  function run_inline_js() {\n    \n    if (root.Bokeh !== undefined || force === true) {\n      \n    for (var i = 0; i < inline_js.length; i++) {\n      inline_js[i].call(root, root.Bokeh);\n    }\n    } else if (Date.now() < root._bokeh_timeout) {\n      setTimeout(run_inline_js, 100);\n    } else if (!root._bokeh_failed_load) {\n      console.log(\"Bokeh: BokehJS failed to load within specified timeout.\");\n      root._bokeh_failed_load = true;\n    } else if (force !== true) {\n      var cell = $(document.getElementById(null)).parents('.cell').data().cell;\n      cell.output_area.append_execute_result(NB_LOAD_WARNING)\n    }\n\n  }\n\n  if (root._bokeh_is_loading === 0) {\n    console.debug(\"Bokeh: BokehJS loaded, going straight to plotting\");\n    run_inline_js();\n  } else {\n    load_libs(css_urls, js_urls, function() {\n      console.debug(\"Bokeh: BokehJS plotting callback run at\", now());\n      run_inline_js();\n    });\n  }\n}(window));"
          },
          "metadata": {
            "tags": []
          }
        },
        {
          "output_type": "display_data",
          "data": {
            "text/html": [
              "\n",
              "\n",
              "\n",
              "\n",
              "\n",
              "\n",
              "  <div class=\"bk-root\" id=\"12758506-b64f-4ff6-ba2f-84b4ae4815bf\" data-root-id=\"3236\"></div>\n"
            ]
          },
          "metadata": {
            "tags": []
          }
        },
        {
          "output_type": "display_data",
          "data": {
            "application/javascript": [
              "(function(root) {\n",
              "  function embed_document(root) {\n",
              "    \n",
              "  var docs_json = {\"b3a67b2a-671a-4ef1-b5e2-996d50de9aa8\":{\"roots\":{\"references\":[{\"attributes\":{\"below\":[{\"id\":\"3245\",\"type\":\"LinearAxis\"}],\"center\":[{\"id\":\"3249\",\"type\":\"Grid\"},{\"id\":\"3254\",\"type\":\"Grid\"},{\"id\":\"3280\",\"type\":\"Legend\"}],\"left\":[{\"id\":\"3250\",\"type\":\"LinearAxis\"}],\"plot_height\":400,\"plot_width\":800,\"renderers\":[{\"id\":\"3271\",\"type\":\"GlyphRenderer\"},{\"id\":\"3285\",\"type\":\"GlyphRenderer\"},{\"id\":\"3290\",\"type\":\"GlyphRenderer\"},{\"id\":\"3307\",\"type\":\"GlyphRenderer\"},{\"id\":\"3312\",\"type\":\"GlyphRenderer\"},{\"id\":\"3333\",\"type\":\"GlyphRenderer\"},{\"id\":\"3338\",\"type\":\"GlyphRenderer\"},{\"id\":\"3363\",\"type\":\"GlyphRenderer\"},{\"id\":\"3368\",\"type\":\"GlyphRenderer\"},{\"id\":\"3397\",\"type\":\"GlyphRenderer\"},{\"id\":\"3402\",\"type\":\"GlyphRenderer\"},{\"id\":\"3435\",\"type\":\"GlyphRenderer\"}],\"title\":{\"id\":\"3273\",\"type\":\"Title\"},\"toolbar\":{\"id\":\"3261\",\"type\":\"Toolbar\"},\"x_range\":{\"id\":\"3237\",\"type\":\"DataRange1d\"},\"x_scale\":{\"id\":\"3241\",\"type\":\"LinearScale\"},\"y_range\":{\"id\":\"3239\",\"type\":\"DataRange1d\"},\"y_scale\":{\"id\":\"3243\",\"type\":\"LinearScale\"}},\"id\":\"3236\",\"subtype\":\"Figure\",\"type\":\"Plot\"},{\"attributes\":{},\"id\":\"3582\",\"type\":\"Selection\"},{\"attributes\":{\"source\":{\"id\":\"3282\",\"type\":\"ColumnDataSource\"}},\"id\":\"3286\",\"type\":\"CDSView\"},{\"attributes\":{\"bottom_units\":\"screen\",\"fill_alpha\":{\"value\":0.5},\"fill_color\":{\"value\":\"lightgrey\"},\"left_units\":\"screen\",\"level\":\"overlay\",\"line_alpha\":{\"value\":1.0},\"line_color\":{\"value\":\"black\"},\"line_dash\":[4,4],\"line_width\":{\"value\":2},\"render_mode\":\"css\",\"right_units\":\"screen\",\"top_units\":\"screen\"},\"id\":\"3279\",\"type\":\"BoxAnnotation\"},{\"attributes\":{\"callback\":null},\"id\":\"3237\",\"type\":\"DataRange1d\"},{\"attributes\":{\"label\":{\"value\":\"2014\"},\"renderers\":[{\"id\":\"3290\",\"type\":\"GlyphRenderer\"}]},\"id\":\"3303\",\"type\":\"LegendItem\"},{\"attributes\":{\"callback\":null,\"data\":{\"x\":[0,1,2,3,4,5,6,7,8,9,10,11],\"y\":{\"__ndarray__\":\"ZmZmZnaz+EDNzMzMjIv2QGZmZmbmv/ZAzczMzFxq9ECamZmZuVjzQAAAAACoDvJAMzMzM/Oe8kCamZmZSQjzQJqZmZkZWPNAZmZmZm529kAAAAAAEDj3QAAAAAD4OvlA\",\"dtype\":\"float64\",\"shape\":[12]}},\"selected\":{\"id\":\"3325\",\"type\":\"Selection\"},\"selection_policy\":{\"id\":\"3324\",\"type\":\"UnionRenderers\"}},\"id\":\"3287\",\"type\":\"ColumnDataSource\"},{\"attributes\":{\"fill_alpha\":{\"value\":0.5},\"fill_color\":{\"value\":\"green\"},\"line_alpha\":{\"value\":0.5},\"line_color\":{\"value\":\"green\"},\"size\":{\"units\":\"screen\",\"value\":8},\"x\":{\"field\":\"x\"},\"y\":{\"field\":\"y\"}},\"id\":\"3361\",\"type\":\"Circle\"},{\"attributes\":{\"callback\":null},\"id\":\"3239\",\"type\":\"DataRange1d\"},{\"attributes\":{},\"id\":\"3299\",\"type\":\"Selection\"},{\"attributes\":{\"fill_alpha\":{\"value\":0.1},\"fill_color\":{\"value\":\"#1f77b4\"},\"line_alpha\":{\"value\":0.1},\"line_color\":{\"value\":\"#1f77b4\"},\"size\":{\"units\":\"screen\",\"value\":8},\"x\":{\"field\":\"x\"},\"y\":{\"field\":\"y\"}},\"id\":\"3362\",\"type\":\"Circle\"},{\"attributes\":{},\"id\":\"3241\",\"type\":\"LinearScale\"},{\"attributes\":{},\"id\":\"3300\",\"type\":\"UnionRenderers\"},{\"attributes\":{\"data_source\":{\"id\":\"3360\",\"type\":\"ColumnDataSource\"},\"glyph\":{\"id\":\"3361\",\"type\":\"Circle\"},\"hover_glyph\":null,\"muted_glyph\":null,\"nonselection_glyph\":{\"id\":\"3362\",\"type\":\"Circle\"},\"selection_glyph\":null,\"view\":{\"id\":\"3364\",\"type\":\"CDSView\"}},\"id\":\"3363\",\"type\":\"GlyphRenderer\"},{\"attributes\":{\"data_source\":{\"id\":\"3365\",\"type\":\"ColumnDataSource\"},\"glyph\":{\"id\":\"3366\",\"type\":\"Line\"},\"hover_glyph\":null,\"muted_glyph\":null,\"nonselection_glyph\":{\"id\":\"3367\",\"type\":\"Line\"},\"selection_glyph\":null,\"view\":{\"id\":\"3369\",\"type\":\"CDSView\"}},\"id\":\"3368\",\"type\":\"GlyphRenderer\"},{\"attributes\":{},\"id\":\"3243\",\"type\":\"LinearScale\"},{\"attributes\":{},\"id\":\"3301\",\"type\":\"Selection\"},{\"attributes\":{\"source\":{\"id\":\"3360\",\"type\":\"ColumnDataSource\"}},\"id\":\"3364\",\"type\":\"CDSView\"},{\"attributes\":{\"formatter\":{\"id\":\"3276\",\"type\":\"BasicTickFormatter\"},\"ticker\":{\"id\":\"3246\",\"type\":\"BasicTicker\"}},\"id\":\"3245\",\"type\":\"LinearAxis\"},{\"attributes\":{\"callback\":null,\"data\":{\"x\":[0,1,2,3,4,5,6,7,8,9,10,11],\"y\":{\"__ndarray__\":\"ZmZmZnaz+EDNzMzMjIv2QGZmZmbmv/ZAzczMzFxq9ECamZmZuVjzQAAAAACoDvJAMzMzM/Oe8kCamZmZSQjzQJqZmZkZWPNAZmZmZm529kAAAAAAEDj3QAAAAAD4OvlA\",\"dtype\":\"float64\",\"shape\":[12]}},\"selected\":{\"id\":\"3327\",\"type\":\"Selection\"},\"selection_policy\":{\"id\":\"3326\",\"type\":\"UnionRenderers\"}},\"id\":\"3304\",\"type\":\"ColumnDataSource\"},{\"attributes\":{},\"id\":\"3246\",\"type\":\"BasicTicker\"},{\"attributes\":{\"label\":{\"value\":\"2017\"},\"renderers\":[{\"id\":\"3368\",\"type\":\"GlyphRenderer\"}]},\"id\":\"3393\",\"type\":\"LegendItem\"},{\"attributes\":{\"fill_alpha\":{\"value\":0.5},\"fill_color\":{\"value\":\"red\"},\"line_alpha\":{\"value\":0.5},\"line_color\":{\"value\":\"red\"},\"size\":{\"units\":\"screen\",\"value\":8},\"x\":{\"field\":\"x\"},\"y\":{\"field\":\"y\"}},\"id\":\"3305\",\"type\":\"Circle\"},{\"attributes\":{\"callback\":null,\"data\":{\"x\":[0,1,2,3,4,5,6,7,8,9,10,11],\"y\":{\"__ndarray__\":\"AAAAAChv+UAzMzMzg872QDMzMzOLO/dAmpmZmeEt9UBmZmZmHij0QAAAAAC41vJAzczMzHxi80BmZmZmpgb0QDMzMzNLDfRAAAAAAHim9kBmZmZmvkj3QDMzMzMrGPlA\",\"dtype\":\"float64\",\"shape\":[12]}},\"selected\":{\"id\":\"3427\",\"type\":\"Selection\"},\"selection_policy\":{\"id\":\"3426\",\"type\":\"UnionRenderers\"}},\"id\":\"3365\",\"type\":\"ColumnDataSource\"},{\"attributes\":{\"ticker\":{\"id\":\"3246\",\"type\":\"BasicTicker\"}},\"id\":\"3249\",\"type\":\"Grid\"},{\"attributes\":{\"fill_alpha\":{\"value\":0.1},\"fill_color\":{\"value\":\"#1f77b4\"},\"line_alpha\":{\"value\":0.1},\"line_color\":{\"value\":\"#1f77b4\"},\"size\":{\"units\":\"screen\",\"value\":8},\"x\":{\"field\":\"x\"},\"y\":{\"field\":\"y\"}},\"id\":\"3306\",\"type\":\"Circle\"},{\"attributes\":{\"formatter\":{\"id\":\"3278\",\"type\":\"BasicTickFormatter\"},\"ticker\":{\"id\":\"3251\",\"type\":\"BasicTicker\"}},\"id\":\"3250\",\"type\":\"LinearAxis\"},{\"attributes\":{},\"id\":\"3389\",\"type\":\"Selection\"},{\"attributes\":{\"data_source\":{\"id\":\"3304\",\"type\":\"ColumnDataSource\"},\"glyph\":{\"id\":\"3305\",\"type\":\"Circle\"},\"hover_glyph\":null,\"muted_glyph\":null,\"nonselection_glyph\":{\"id\":\"3306\",\"type\":\"Circle\"},\"selection_glyph\":null,\"view\":{\"id\":\"3308\",\"type\":\"CDSView\"}},\"id\":\"3307\",\"type\":\"GlyphRenderer\"},{\"attributes\":{\"line_alpha\":0.1,\"line_color\":\"#1f77b4\",\"line_width\":3,\"x\":{\"field\":\"x\"},\"y\":{\"field\":\"y\"}},\"id\":\"3367\",\"type\":\"Line\"},{\"attributes\":{},\"id\":\"3251\",\"type\":\"BasicTicker\"},{\"attributes\":{\"source\":{\"id\":\"3304\",\"type\":\"ColumnDataSource\"}},\"id\":\"3308\",\"type\":\"CDSView\"},{\"attributes\":{\"line_color\":\"cyan\",\"line_width\":3,\"x\":{\"field\":\"x\"},\"y\":{\"field\":\"y\"}},\"id\":\"3366\",\"type\":\"Line\"},{\"attributes\":{\"dimension\":1,\"ticker\":{\"id\":\"3251\",\"type\":\"BasicTicker\"}},\"id\":\"3254\",\"type\":\"Grid\"},{\"attributes\":{\"source\":{\"id\":\"3365\",\"type\":\"ColumnDataSource\"}},\"id\":\"3369\",\"type\":\"CDSView\"},{\"attributes\":{},\"id\":\"3390\",\"type\":\"UnionRenderers\"},{\"attributes\":{\"line_alpha\":0.1,\"line_color\":\"#1f77b4\",\"line_width\":3,\"x\":{\"field\":\"x\"},\"y\":{\"field\":\"y\"}},\"id\":\"3270\",\"type\":\"Line\"},{\"attributes\":{\"label\":{\"value\":\"2015\"},\"renderers\":[{\"id\":\"3312\",\"type\":\"GlyphRenderer\"}]},\"id\":\"3329\",\"type\":\"LegendItem\"},{\"attributes\":{\"callback\":null,\"data\":{\"x\":[0,1,2,3,4,5,6,7,8,9,10,11],\"y\":{\"__ndarray__\":\"ZmZmZh7T+EAAAAAAQFb2QAAAAAAYHfdAzczMzHTx9EDNzMzM5FDzQAAAAAAYP/JAZmZmZj7k8kCamZmZgTzzQDMzMzMDW/NAMzMzMytb9kCamZmZYTf3QGZmZmbWfPhA\",\"dtype\":\"float64\",\"shape\":[12]}},\"selected\":{\"id\":\"3355\",\"type\":\"Selection\"},\"selection_policy\":{\"id\":\"3354\",\"type\":\"UnionRenderers\"}},\"id\":\"3309\",\"type\":\"ColumnDataSource\"},{\"attributes\":{},\"id\":\"3391\",\"type\":\"Selection\"},{\"attributes\":{\"callback\":null,\"data\":{\"x\":[0,1,2,3,4,5,6,7,8,9,10,11],\"y\":{\"__ndarray__\":\"MzMzM4s1+UCamZmZyVj2QJqZmZkR4fdAAAAAALDI9EDNzMzMjE7zQGZmZmb+LvJAZmZmZvaT8kAAAAAAgMTyQDMzMzOzavNAzczMzIwS9kAzMzMzixj2QM3MzMyUffhA\",\"dtype\":\"float64\",\"shape\":[12]}},\"selected\":{\"id\":\"3299\",\"type\":\"Selection\"},\"selection_policy\":{\"id\":\"3298\",\"type\":\"UnionRenderers\"}},\"id\":\"3268\",\"type\":\"ColumnDataSource\"},{\"attributes\":{\"active_drag\":\"auto\",\"active_inspect\":\"auto\",\"active_multi\":null,\"active_scroll\":\"auto\",\"active_tap\":\"auto\",\"tools\":[{\"id\":\"3255\",\"type\":\"PanTool\"},{\"id\":\"3256\",\"type\":\"WheelZoomTool\"},{\"id\":\"3257\",\"type\":\"BoxZoomTool\"},{\"id\":\"3258\",\"type\":\"SaveTool\"},{\"id\":\"3259\",\"type\":\"ResetTool\"},{\"id\":\"3260\",\"type\":\"HelpTool\"}]},\"id\":\"3261\",\"type\":\"Toolbar\"},{\"attributes\":{\"line_alpha\":0.1,\"line_color\":\"#1f77b4\",\"line_width\":3,\"x\":{\"field\":\"x\"},\"y\":{\"field\":\"y\"}},\"id\":\"3311\",\"type\":\"Line\"},{\"attributes\":{\"line_color\":\"yellow\",\"line_width\":3,\"x\":{\"field\":\"x\"},\"y\":{\"field\":\"y\"}},\"id\":\"3310\",\"type\":\"Line\"},{\"attributes\":{},\"id\":\"3255\",\"type\":\"PanTool\"},{\"attributes\":{\"data_source\":{\"id\":\"3399\",\"type\":\"ColumnDataSource\"},\"glyph\":{\"id\":\"3400\",\"type\":\"Line\"},\"hover_glyph\":null,\"muted_glyph\":null,\"nonselection_glyph\":{\"id\":\"3401\",\"type\":\"Line\"},\"selection_glyph\":null,\"view\":{\"id\":\"3403\",\"type\":\"CDSView\"}},\"id\":\"3402\",\"type\":\"GlyphRenderer\"},{\"attributes\":{\"data_source\":{\"id\":\"3309\",\"type\":\"ColumnDataSource\"},\"glyph\":{\"id\":\"3310\",\"type\":\"Line\"},\"hover_glyph\":null,\"muted_glyph\":null,\"nonselection_glyph\":{\"id\":\"3311\",\"type\":\"Line\"},\"selection_glyph\":null,\"view\":{\"id\":\"3313\",\"type\":\"CDSView\"}},\"id\":\"3312\",\"type\":\"GlyphRenderer\"},{\"attributes\":{},\"id\":\"3256\",\"type\":\"WheelZoomTool\"},{\"attributes\":{\"callback\":null,\"data\":{\"x\":[0,1,2,3,4,5,6,7,8,9,10,11],\"y\":{\"__ndarray__\":\"AAAAAChv+UAzMzMzg872QDMzMzOLO/dAmpmZmeEt9UBmZmZmHij0QAAAAAC41vJAzczMzHxi80BmZmZmpgb0QDMzMzNLDfRAAAAAAHim9kBmZmZmvkj3QDMzMzMrGPlA\",\"dtype\":\"float64\",\"shape\":[12]}},\"selected\":{\"id\":\"3429\",\"type\":\"Selection\"},\"selection_policy\":{\"id\":\"3428\",\"type\":\"UnionRenderers\"}},\"id\":\"3394\",\"type\":\"ColumnDataSource\"},{\"attributes\":{\"source\":{\"id\":\"3309\",\"type\":\"ColumnDataSource\"}},\"id\":\"3313\",\"type\":\"CDSView\"},{\"attributes\":{\"fill_alpha\":{\"value\":0.5},\"fill_color\":{\"value\":\"cyan\"},\"line_alpha\":{\"value\":0.5},\"line_color\":{\"value\":\"cyan\"},\"size\":{\"units\":\"screen\",\"value\":8},\"x\":{\"field\":\"x\"},\"y\":{\"field\":\"y\"}},\"id\":\"3395\",\"type\":\"Circle\"},{\"attributes\":{\"overlay\":{\"id\":\"3279\",\"type\":\"BoxAnnotation\"}},\"id\":\"3257\",\"type\":\"BoxZoomTool\"},{\"attributes\":{\"label\":{\"value\":\"2018\"},\"renderers\":[{\"id\":\"3402\",\"type\":\"GlyphRenderer\"}]},\"id\":\"3431\",\"type\":\"LegendItem\"},{\"attributes\":{},\"id\":\"3258\",\"type\":\"SaveTool\"},{\"attributes\":{},\"id\":\"3324\",\"type\":\"UnionRenderers\"},{\"attributes\":{\"fill_alpha\":{\"value\":0.1},\"fill_color\":{\"value\":\"#1f77b4\"},\"line_alpha\":{\"value\":0.1},\"line_color\":{\"value\":\"#1f77b4\"},\"size\":{\"units\":\"screen\",\"value\":8},\"x\":{\"field\":\"x\"},\"y\":{\"field\":\"y\"}},\"id\":\"3396\",\"type\":\"Circle\"},{\"attributes\":{},\"id\":\"3259\",\"type\":\"ResetTool\"},{\"attributes\":{},\"id\":\"3325\",\"type\":\"Selection\"},{\"attributes\":{\"source\":{\"id\":\"3394\",\"type\":\"ColumnDataSource\"}},\"id\":\"3398\",\"type\":\"CDSView\"},{\"attributes\":{},\"id\":\"3260\",\"type\":\"HelpTool\"},{\"attributes\":{\"data_source\":{\"id\":\"3394\",\"type\":\"ColumnDataSource\"},\"glyph\":{\"id\":\"3395\",\"type\":\"Circle\"},\"hover_glyph\":null,\"muted_glyph\":null,\"nonselection_glyph\":{\"id\":\"3396\",\"type\":\"Circle\"},\"selection_glyph\":null,\"view\":{\"id\":\"3398\",\"type\":\"CDSView\"}},\"id\":\"3397\",\"type\":\"GlyphRenderer\"},{\"attributes\":{},\"id\":\"3326\",\"type\":\"UnionRenderers\"},{\"attributes\":{\"callback\":null,\"data\":{\"x\":[0,1,2,3,4,5,6,7,8,9,10,11],\"y\":{\"__ndarray__\":\"AAAAADhL+UCamZmZuRX3QAAAAABAifhAAAAAAIA99UAAAAAAgBH0QAAAAACASfNAAAAAAID480AAAAAAQD30QAAAAADAF/RAAAAAAIBp9kAAAAAAwOb3QAAAAAAAQPpA\",\"dtype\":\"float64\",\"shape\":[12]}},\"selected\":{\"id\":\"3580\",\"type\":\"Selection\"},\"selection_policy\":{\"id\":\"3579\",\"type\":\"UnionRenderers\"}},\"id\":\"3399\",\"type\":\"ColumnDataSource\"},{\"attributes\":{},\"id\":\"3327\",\"type\":\"Selection\"},{\"attributes\":{\"line_color\":\"magenta\",\"line_width\":3,\"x\":{\"field\":\"x\"},\"y\":{\"field\":\"y\"}},\"id\":\"3269\",\"type\":\"Line\"},{\"attributes\":{\"data_source\":{\"id\":\"3268\",\"type\":\"ColumnDataSource\"},\"glyph\":{\"id\":\"3269\",\"type\":\"Line\"},\"hover_glyph\":null,\"muted_glyph\":null,\"nonselection_glyph\":{\"id\":\"3270\",\"type\":\"Line\"},\"selection_glyph\":null,\"view\":{\"id\":\"3272\",\"type\":\"CDSView\"}},\"id\":\"3271\",\"type\":\"GlyphRenderer\"},{\"attributes\":{\"line_color\":\"blue\",\"line_width\":3,\"x\":{\"field\":\"x\"},\"y\":{\"field\":\"y\"}},\"id\":\"3400\",\"type\":\"Line\"},{\"attributes\":{\"callback\":null,\"data\":{\"x\":[0,1,2,3,4,5,6,7,8,9,10,11],\"y\":{\"__ndarray__\":\"ZmZmZh7T+EAAAAAAQFb2QAAAAAAYHfdAzczMzHTx9EDNzMzM5FDzQAAAAAAYP/JAZmZmZj7k8kCamZmZgTzzQDMzMzMDW/NAMzMzMytb9kCamZmZYTf3QGZmZmbWfPhA\",\"dtype\":\"float64\",\"shape\":[12]}},\"selected\":{\"id\":\"3357\",\"type\":\"Selection\"},\"selection_policy\":{\"id\":\"3356\",\"type\":\"UnionRenderers\"}},\"id\":\"3330\",\"type\":\"ColumnDataSource\"},{\"attributes\":{\"source\":{\"id\":\"3268\",\"type\":\"ColumnDataSource\"}},\"id\":\"3272\",\"type\":\"CDSView\"},{\"attributes\":{\"fill_alpha\":{\"value\":0.5},\"fill_color\":{\"value\":\"yellow\"},\"line_alpha\":{\"value\":0.5},\"line_color\":{\"value\":\"yellow\"},\"size\":{\"units\":\"screen\",\"value\":8},\"x\":{\"field\":\"x\"},\"y\":{\"field\":\"y\"}},\"id\":\"3331\",\"type\":\"Circle\"},{\"attributes\":{\"line_alpha\":0.1,\"line_color\":\"#1f77b4\",\"line_width\":3,\"x\":{\"field\":\"x\"},\"y\":{\"field\":\"y\"}},\"id\":\"3401\",\"type\":\"Line\"},{\"attributes\":{},\"id\":\"3426\",\"type\":\"UnionRenderers\"},{\"attributes\":{\"text\":\"\"},\"id\":\"3273\",\"type\":\"Title\"},{\"attributes\":{\"fill_alpha\":{\"value\":0.1},\"fill_color\":{\"value\":\"#1f77b4\"},\"line_alpha\":{\"value\":0.1},\"line_color\":{\"value\":\"#1f77b4\"},\"size\":{\"units\":\"screen\",\"value\":8},\"x\":{\"field\":\"x\"},\"y\":{\"field\":\"y\"}},\"id\":\"3332\",\"type\":\"Circle\"},{\"attributes\":{\"data_source\":{\"id\":\"3330\",\"type\":\"ColumnDataSource\"},\"glyph\":{\"id\":\"3331\",\"type\":\"Circle\"},\"hover_glyph\":null,\"muted_glyph\":null,\"nonselection_glyph\":{\"id\":\"3332\",\"type\":\"Circle\"},\"selection_glyph\":null,\"view\":{\"id\":\"3334\",\"type\":\"CDSView\"}},\"id\":\"3333\",\"type\":\"GlyphRenderer\"},{\"attributes\":{},\"id\":\"3276\",\"type\":\"BasicTickFormatter\"},{\"attributes\":{\"fill_alpha\":{\"value\":0.1},\"fill_color\":{\"value\":\"#1f77b4\"},\"line_alpha\":{\"value\":0.1},\"line_color\":{\"value\":\"#1f77b4\"},\"size\":{\"units\":\"screen\",\"value\":8},\"x\":{\"field\":\"x\"},\"y\":{\"field\":\"y\"}},\"id\":\"3434\",\"type\":\"Circle\"},{\"attributes\":{\"source\":{\"id\":\"3330\",\"type\":\"ColumnDataSource\"}},\"id\":\"3334\",\"type\":\"CDSView\"},{\"attributes\":{},\"id\":\"3278\",\"type\":\"BasicTickFormatter\"},{\"attributes\":{},\"id\":\"3429\",\"type\":\"Selection\"},{\"attributes\":{\"source\":{\"id\":\"3399\",\"type\":\"ColumnDataSource\"}},\"id\":\"3403\",\"type\":\"CDSView\"},{\"attributes\":{\"items\":[{\"id\":\"3281\",\"type\":\"LegendItem\"},{\"id\":\"3303\",\"type\":\"LegendItem\"},{\"id\":\"3329\",\"type\":\"LegendItem\"},{\"id\":\"3359\",\"type\":\"LegendItem\"},{\"id\":\"3393\",\"type\":\"LegendItem\"},{\"id\":\"3431\",\"type\":\"LegendItem\"}]},\"id\":\"3280\",\"type\":\"Legend\"},{\"attributes\":{\"label\":{\"value\":\"2016\"},\"renderers\":[{\"id\":\"3338\",\"type\":\"GlyphRenderer\"}]},\"id\":\"3359\",\"type\":\"LegendItem\"},{\"attributes\":{},\"id\":\"3428\",\"type\":\"UnionRenderers\"},{\"attributes\":{\"callback\":null,\"data\":{\"x\":[0,1,2,3,4,5,6,7,8,9,10,11],\"y\":{\"__ndarray__\":\"MzMzMztz+UAzMzMzE7D2QGZmZmYGHPdAZmZmZuZ79EBmZmZmpovzQDMzMzNjrfJAzczMzBxN80BmZmZmbtLzQAAAAACI0vNAMzMzMxPD9kCamZmZmR74QGZmZmYW5vlA\",\"dtype\":\"float64\",\"shape\":[12]}},\"selected\":{\"id\":\"3389\",\"type\":\"Selection\"},\"selection_policy\":{\"id\":\"3388\",\"type\":\"UnionRenderers\"}},\"id\":\"3335\",\"type\":\"ColumnDataSource\"},{\"attributes\":{\"label\":{\"value\":\"2013\"},\"renderers\":[{\"id\":\"3271\",\"type\":\"GlyphRenderer\"}]},\"id\":\"3281\",\"type\":\"LegendItem\"},{\"attributes\":{},\"id\":\"3427\",\"type\":\"Selection\"},{\"attributes\":{\"callback\":null,\"data\":{\"x\":[0,1,2,3,4,5,6,7,8,9,10,11],\"y\":{\"__ndarray__\":\"MzMzM4s1+UCamZmZyVj2QJqZmZkR4fdAAAAAALDI9EDNzMzMjE7zQGZmZmb+LvJAZmZmZvaT8kAAAAAAgMTyQDMzMzOzavNAzczMzIwS9kAzMzMzixj2QM3MzMyUffhA\",\"dtype\":\"float64\",\"shape\":[12]}},\"selected\":{\"id\":\"3301\",\"type\":\"Selection\"},\"selection_policy\":{\"id\":\"3300\",\"type\":\"UnionRenderers\"}},\"id\":\"3282\",\"type\":\"ColumnDataSource\"},{\"attributes\":{\"line_alpha\":0.1,\"line_color\":\"#1f77b4\",\"line_width\":3,\"x\":{\"field\":\"x\"},\"y\":{\"field\":\"y\"}},\"id\":\"3337\",\"type\":\"Line\"},{\"attributes\":{\"line_color\":\"green\",\"line_width\":3,\"x\":{\"field\":\"x\"},\"y\":{\"field\":\"y\"}},\"id\":\"3336\",\"type\":\"Line\"},{\"attributes\":{\"fill_alpha\":{\"value\":0.5},\"fill_color\":{\"value\":\"magenta\"},\"line_alpha\":{\"value\":0.5},\"line_color\":{\"value\":\"magenta\"},\"size\":{\"units\":\"screen\",\"value\":8},\"x\":{\"field\":\"x\"},\"y\":{\"field\":\"y\"}},\"id\":\"3283\",\"type\":\"Circle\"},{\"attributes\":{},\"id\":\"3579\",\"type\":\"UnionRenderers\"},{\"attributes\":{\"data_source\":{\"id\":\"3335\",\"type\":\"ColumnDataSource\"},\"glyph\":{\"id\":\"3336\",\"type\":\"Line\"},\"hover_glyph\":null,\"muted_glyph\":null,\"nonselection_glyph\":{\"id\":\"3337\",\"type\":\"Line\"},\"selection_glyph\":null,\"view\":{\"id\":\"3339\",\"type\":\"CDSView\"}},\"id\":\"3338\",\"type\":\"GlyphRenderer\"},{\"attributes\":{\"fill_alpha\":{\"value\":0.1},\"fill_color\":{\"value\":\"#1f77b4\"},\"line_alpha\":{\"value\":0.1},\"line_color\":{\"value\":\"#1f77b4\"},\"size\":{\"units\":\"screen\",\"value\":8},\"x\":{\"field\":\"x\"},\"y\":{\"field\":\"y\"}},\"id\":\"3284\",\"type\":\"Circle\"},{\"attributes\":{\"source\":{\"id\":\"3335\",\"type\":\"ColumnDataSource\"}},\"id\":\"3339\",\"type\":\"CDSView\"},{\"attributes\":{\"data_source\":{\"id\":\"3282\",\"type\":\"ColumnDataSource\"},\"glyph\":{\"id\":\"3283\",\"type\":\"Circle\"},\"hover_glyph\":null,\"muted_glyph\":null,\"nonselection_glyph\":{\"id\":\"3284\",\"type\":\"Circle\"},\"selection_glyph\":null,\"view\":{\"id\":\"3286\",\"type\":\"CDSView\"}},\"id\":\"3285\",\"type\":\"GlyphRenderer\"},{\"attributes\":{\"callback\":null,\"data\":{\"x\":[0,1,2,3,4,5,6,7,8,9,10,11],\"y\":{\"__ndarray__\":\"AAAAADhL+UCamZmZuRX3QAAAAABAifhAAAAAAIA99UAAAAAAgBH0QAAAAACASfNAAAAAAID480AAAAAAQD30QAAAAADAF/RAAAAAAIBp9kAAAAAAwOb3QAAAAAAAQPpA\",\"dtype\":\"float64\",\"shape\":[12]}},\"selected\":{\"id\":\"3582\",\"type\":\"Selection\"},\"selection_policy\":{\"id\":\"3581\",\"type\":\"UnionRenderers\"}},\"id\":\"3432\",\"type\":\"ColumnDataSource\"},{\"attributes\":{\"data_source\":{\"id\":\"3432\",\"type\":\"ColumnDataSource\"},\"glyph\":{\"id\":\"3433\",\"type\":\"Circle\"},\"hover_glyph\":null,\"muted_glyph\":null,\"nonselection_glyph\":{\"id\":\"3434\",\"type\":\"Circle\"},\"selection_glyph\":null,\"view\":{\"id\":\"3436\",\"type\":\"CDSView\"}},\"id\":\"3435\",\"type\":\"GlyphRenderer\"},{\"attributes\":{},\"id\":\"3354\",\"type\":\"UnionRenderers\"},{\"attributes\":{\"fill_alpha\":{\"value\":0.5},\"fill_color\":{\"value\":\"blue\"},\"line_alpha\":{\"value\":0.5},\"line_color\":{\"value\":\"blue\"},\"size\":{\"units\":\"screen\",\"value\":8},\"x\":{\"field\":\"x\"},\"y\":{\"field\":\"y\"}},\"id\":\"3433\",\"type\":\"Circle\"},{\"attributes\":{},\"id\":\"3355\",\"type\":\"Selection\"},{\"attributes\":{\"line_alpha\":0.1,\"line_color\":\"#1f77b4\",\"line_width\":3,\"x\":{\"field\":\"x\"},\"y\":{\"field\":\"y\"}},\"id\":\"3289\",\"type\":\"Line\"},{\"attributes\":{\"line_color\":\"red\",\"line_width\":3,\"x\":{\"field\":\"x\"},\"y\":{\"field\":\"y\"}},\"id\":\"3288\",\"type\":\"Line\"},{\"attributes\":{},\"id\":\"3356\",\"type\":\"UnionRenderers\"},{\"attributes\":{},\"id\":\"3581\",\"type\":\"UnionRenderers\"},{\"attributes\":{},\"id\":\"3580\",\"type\":\"Selection\"},{\"attributes\":{\"data_source\":{\"id\":\"3287\",\"type\":\"ColumnDataSource\"},\"glyph\":{\"id\":\"3288\",\"type\":\"Line\"},\"hover_glyph\":null,\"muted_glyph\":null,\"nonselection_glyph\":{\"id\":\"3289\",\"type\":\"Line\"},\"selection_glyph\":null,\"view\":{\"id\":\"3291\",\"type\":\"CDSView\"}},\"id\":\"3290\",\"type\":\"GlyphRenderer\"},{\"attributes\":{},\"id\":\"3357\",\"type\":\"Selection\"},{\"attributes\":{\"source\":{\"id\":\"3432\",\"type\":\"ColumnDataSource\"}},\"id\":\"3436\",\"type\":\"CDSView\"},{\"attributes\":{\"source\":{\"id\":\"3287\",\"type\":\"ColumnDataSource\"}},\"id\":\"3291\",\"type\":\"CDSView\"},{\"attributes\":{},\"id\":\"3388\",\"type\":\"UnionRenderers\"},{\"attributes\":{\"callback\":null,\"data\":{\"x\":[0,1,2,3,4,5,6,7,8,9,10,11],\"y\":{\"__ndarray__\":\"MzMzMztz+UAzMzMzE7D2QGZmZmYGHPdAZmZmZuZ79EBmZmZmpovzQDMzMzNjrfJAzczMzBxN80BmZmZmbtLzQAAAAACI0vNAMzMzMxPD9kCamZmZmR74QGZmZmYW5vlA\",\"dtype\":\"float64\",\"shape\":[12]}},\"selected\":{\"id\":\"3391\",\"type\":\"Selection\"},\"selection_policy\":{\"id\":\"3390\",\"type\":\"UnionRenderers\"}},\"id\":\"3360\",\"type\":\"ColumnDataSource\"},{\"attributes\":{},\"id\":\"3298\",\"type\":\"UnionRenderers\"}],\"root_ids\":[\"3236\"]},\"title\":\"Bokeh Application\",\"version\":\"1.4.0\"}};\n",
              "  var render_items = [{\"docid\":\"b3a67b2a-671a-4ef1-b5e2-996d50de9aa8\",\"roots\":{\"3236\":\"12758506-b64f-4ff6-ba2f-84b4ae4815bf\"}}];\n",
              "  root.Bokeh.embed.embed_items_notebook(docs_json, render_items);\n",
              "\n",
              "  }\n",
              "  if (root.Bokeh !== undefined) {\n",
              "    embed_document(root);\n",
              "  } else {\n",
              "    var attempts = 0;\n",
              "    var timer = setInterval(function(root) {\n",
              "      if (root.Bokeh !== undefined) {\n",
              "        clearInterval(timer);\n",
              "        embed_document(root);\n",
              "      } else {\n",
              "        attempts++;\n",
              "        if (attempts > 100) {\n",
              "          clearInterval(timer);\n",
              "          console.log(\"Bokeh: ERROR: Unable to run BokehJS code because BokehJS library is missing\");\n",
              "        }\n",
              "      }\n",
              "    }, 10, root)\n",
              "  }\n",
              "})(window);"
            ],
            "application/vnd.bokehjs_exec.v0+json": ""
          },
          "metadata": {
            "tags": [],
            "application/vnd.bokehjs_exec.v0+json": {
              "id": "3236"
            }
          }
        }
      ]
    }
  ]
}